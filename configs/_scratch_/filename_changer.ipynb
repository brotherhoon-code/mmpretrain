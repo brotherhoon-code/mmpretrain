{
 "cells": [
  {
   "cell_type": "code",
   "execution_count": null,
   "metadata": {},
   "outputs": [],
   "source": [
    "import os\n",
    "\n",
    "\n",
    "def filenameChange(dir_path='./in40/'):\n",
    "        files = os.listdir(dir_path)\n",
    "        for file in files:\n",
    "            src_file_path = os.path.realpath(os.path.join(dir_path, file))\n",
    "            dst_file_path = src_file_path.replace('in20','in40')\n",
    "            os.rename(src_file_path, dst_file_path)\n",
    "            print(src_file_path)\n",
    "            print(dst_file_path)"
   ]
  }
 ],
 "metadata": {
  "kernelspec": {
   "display_name": "open-mmlab",
   "language": "python",
   "name": "python3"
  },
  "language_info": {
   "codemirror_mode": {
    "name": "ipython",
    "version": 3
   },
   "file_extension": ".py",
   "mimetype": "text/x-python",
   "name": "python",
   "nbconvert_exporter": "python",
   "pygments_lexer": "ipython3",
   "version": "3.8.16"
  },
  "orig_nbformat": 4
 },
 "nbformat": 4,
 "nbformat_minor": 2
}
