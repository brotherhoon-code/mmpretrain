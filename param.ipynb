{
 "cells": [
  {
   "cell_type": "code",
   "execution_count": null,
   "metadata": {},
   "outputs": [],
   "source": [
    "from mmpretrain import get_model, inference_model\n",
    "from torchinfo import summary\n",
    "import torch\n",
    "# from torchino\n",
    "\n",
    "img_path = 'demo.JPEG'   # you can specify your own picture path\n",
    "\n",
    "# build the model from a config file and a checkpoint file\n",
    "model = get_model('resnet50_8xb32_in1k', pretrained=False, device=\"cpu\")  # device can be 'cuda:0'\n",
    "\n",
    "# 모델의 입력 이미지 shape를 지정합니다.\n",
    "input_shape = (3, 224, 224)\n",
    "\n",
    "summary(model, input_shape, device='cpu')\n",
    "# type(model)"
   ]
  },
  {
   "cell_type": "code",
   "execution_count": null,
   "metadata": {},
   "outputs": [],
   "source": [
    "!python tools/analysis_tools/get_flops.py configs/_scratch_/config_resnet-in10.py --shape 224"
   ]
  },
  {
   "cell_type": "code",
   "execution_count": null,
   "metadata": {},
   "outputs": [],
   "source": [
    "!python tools/analysis_tools/get_flops.py configs/_scratch_/config_resnet-cifar100.py --shape 32 32\n",
    "'''\n",
    "==============================\n",
    "Input shape: (3, 32, 32)\n",
    "Flops: 83.895M\n",
    "Params: 23.739M\n",
    "Activation: 0.227M\n",
    "==============================\n",
    "'''"
   ]
  },
  {
   "cell_type": "code",
   "execution_count": null,
   "metadata": {},
   "outputs": [],
   "source": [
    "!python tools/analysis_tools/get_flops.py configs/_scratch_/config_seresnet-cifar100.py --shape 32 32\n",
    "'''\n",
    "==============================\n",
    "Input shape: (3, 32, 32)\n",
    "Flops: 86.523M\n",
    "Params: 26.27M\n",
    "Activation: 0.243M\n",
    "==============================\n",
    "'''"
   ]
  },
  {
   "cell_type": "code",
   "execution_count": null,
   "metadata": {},
   "outputs": [],
   "source": [
    "!python tools/analysis_tools/get_flops.py configs/_scratch_/config_cbam-cifar100.py --shape 32 32\n",
    "'''\n",
    "==============================\n",
    "Input shape: (3, 32, 32)\n",
    "Flops: 20.914G\n",
    "Params: 26.477M\n",
    "Activation: 51.52M\n",
    "==============================\n",
    "'''"
   ]
  },
  {
   "cell_type": "code",
   "execution_count": null,
   "metadata": {},
   "outputs": [],
   "source": [
    "!python tools/analysis_tools/get_flops.py configs/_scratch_/config_nonlocalnet-cifar100.py --shape 32 32\n",
    "'''\n",
    "==============================\n",
    "Input shape: (3, 32, 32)\n",
    "Flops: 0.119G\n",
    "Params: 34.89M\n",
    "Activation: 0.323M\n",
    "==============================\n",
    "'''"
   ]
  },
  {
   "cell_type": "code",
   "execution_count": null,
   "metadata": {},
   "outputs": [],
   "source": [
    "import torch\n",
    "from einops import rearrange, repeat, reduce\n",
    "\n",
    "input = torch.arange(27).reshape(1,3,3,3)\n",
    "seout = torch.arange(3).reshape(1,3)\n",
    "seblock_out = repeat(seout, 'b c -> b c h w', h=input.size(2), w=input.size(3))"
   ]
  },
  {
   "cell_type": "code",
   "execution_count": null,
   "metadata": {},
   "outputs": [],
   "source": [
    "seblock_out*input"
   ]
  },
  {
   "cell_type": "code",
   "execution_count": null,
   "metadata": {},
   "outputs": [],
   "source": []
  }
 ],
 "metadata": {
  "kernelspec": {
   "display_name": "open-mmlab",
   "language": "python",
   "name": "python3"
  },
  "language_info": {
   "codemirror_mode": {
    "name": "ipython",
    "version": 3
   },
   "file_extension": ".py",
   "mimetype": "text/x-python",
   "name": "python",
   "nbconvert_exporter": "python",
   "pygments_lexer": "ipython3",
   "version": "3.8.16"
  },
  "orig_nbformat": 4
 },
 "nbformat": 4,
 "nbformat_minor": 2
}
