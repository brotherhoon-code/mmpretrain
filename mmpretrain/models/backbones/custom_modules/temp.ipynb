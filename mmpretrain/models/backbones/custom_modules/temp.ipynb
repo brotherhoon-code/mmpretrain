{
 "cells": [
  {
   "cell_type": "code",
   "execution_count": null,
   "metadata": {},
   "outputs": [],
   "source": [
    "import torch\n",
    "import torch.nn as nn\n",
    "import torch.nn.functional as F"
   ]
  },
  {
   "cell_type": "code",
   "execution_count": null,
   "metadata": {},
   "outputs": [],
   "source": [
    "class Dynamic_conv2d(nn.Module):\n",
    "    def __init__(\n",
    "        self,\n",
    "        in_channels,\n",
    "        out_channels,\n",
    "        kernel_size,\n",
    "        ratio=0.25,\n",
    "        stride=1,\n",
    "        padding=0,\n",
    "        dilation=1,\n",
    "        groups=1,\n",
    "        bias=True,\n",
    "        K=4,\n",
    "        temperature=34,\n",
    "        pool_mode=\"mix\",\n",
    "        init_weight=True,\n",
    "    ):"
   ]
  },
  {
   "cell_type": "code",
   "execution_count": null,
   "metadata": {},
   "outputs": [],
   "source": [
    "class channel_attention_module(nn.Module):\n",
    "    def __init__(self,\n",
    "                 in_channels,\n",
    "                 ratio,\n",
    "                 K,\n",
    "                 temperature,\n",
    "                 pool_mode=\"avg\",\n",
    "                 init_weight=True):"
   ]
  },
  {
   "cell_type": "code",
   "execution_count": 5,
   "metadata": {},
   "outputs": [
    {
     "data": {
      "text/plain": [
       "torch.Size([4, 6, 224, 224])"
      ]
     },
     "execution_count": 5,
     "metadata": {},
     "output_type": "execute_result"
    }
   ],
   "source": [
    "outs = []\n",
    "outs.append(torch.Tensor(4,3,224,224))\n",
    "outs.append(torch.Tensor(4,3,224,224))\n",
    "torch.cat(outs, dim=1).shape"
   ]
  },
  {
   "cell_type": "code",
   "execution_count": 6,
   "metadata": {},
   "outputs": [
    {
     "data": {
      "text/plain": [
       "torch.Size([4, 3, 224, 224])"
      ]
     },
     "execution_count": 6,
     "metadata": {},
     "output_type": "execute_result"
    }
   ],
   "source": [
    "outs = []\n",
    "outs.append(torch.Tensor(4,3,224,224))\n",
    "torch.cat(outs, dim=1).shape"
   ]
  },
  {
   "cell_type": "code",
   "execution_count": 3,
   "metadata": {},
   "outputs": [
    {
     "name": "stdout",
     "output_type": "stream",
     "text": [
      "torch.Size([64, 64, 1, 1])\n",
      "torch.Size([64, 64, 1, 1])\n"
     ]
    }
   ],
   "source": [
    "print(nn.AdaptiveAvgPool2d(1)(torch.randn(64,64,52,52)).shape)\n",
    "print(nn.AdaptiveAvgPool2d(output_size=(1,1))(torch.randn(64,64,52,52)).shape)"
   ]
  },
  {
   "cell_type": "code",
   "execution_count": 2,
   "metadata": {},
   "outputs": [],
   "source": [
    "class attention2d(nn.Module):\n",
    "    def __init__(self, in_channels, ratio, K, temperature, init_weight=True):\n",
    "        super().__init__()\n",
    "        assert temperature % 3 == 1\n",
    "        self.avgpool = nn.AdaptiveAvgPool2d(1)\n",
    "        if in_channels != 3:  # not RGB\n",
    "            hidden_channels = int(in_channels * ratio) + 1\n",
    "        else:\n",
    "            hidden_channels = K\n",
    "        self.fc1 = nn.Conv2d(\n",
    "            in_channels=in_channels,\n",
    "            out_channels=hidden_channels,\n",
    "            kernel_size=(1, 1),\n",
    "            bias=False,\n",
    "        )\n",
    "        self.fc2 = nn.Conv2d(\n",
    "            in_channels=hidden_channels, out_channels=K, kernel_size=(1, 1), bias=True\n",
    "        )\n",
    "        self.temperature = temperature\n",
    "        if init_weight:  # default weight update\n",
    "            self._initialize_weights()\n",
    "\n",
    "    def _initialize_weights(self):\n",
    "        for m in self.modules():\n",
    "            if isinstance(m, nn.Conv2d):\n",
    "                nn.init.kaiming_normal_(\n",
    "                    tensor=m.weight, mode=\"fan_out\", nonlinearity=\"relu\"\n",
    "                )\n",
    "                if m.bias is not None:\n",
    "                    nn.init.constant_(m.bias, 0)\n",
    "            if isinstance(m, nn.BatchNorm2d):\n",
    "                nn.init.constant_(m.weight, 1)\n",
    "                nn.init.constant_(m.bias, 0)\n",
    "\n",
    "    def update_temperature(self):\n",
    "        if self.temperature != 1:\n",
    "            self.temperature -= 3\n",
    "            print(f\"change temperature to: {self.temperature}\")\n",
    "\n",
    "    def forward(self, x):\n",
    "        x = self.avgpool(x)  # [B, in_channels, 1, 1]\n",
    "        x = self.fc1(x)  # [B, in_channels*ratio+1, 1, 1]\n",
    "        x = F.relu(x)\n",
    "        x = self.fc2(x)  # [B, K, 1, 1]\n",
    "        x = x.view(x.size(0), -1)  # [B, K]\n",
    "        return F.softmax(x / self.temperature, 1)"
   ]
  }
 ],
 "metadata": {
  "kernelspec": {
   "display_name": "mmpretrain",
   "language": "python",
   "name": "python3"
  },
  "language_info": {
   "codemirror_mode": {
    "name": "ipython",
    "version": 3
   },
   "file_extension": ".py",
   "mimetype": "text/x-python",
   "name": "python",
   "nbconvert_exporter": "python",
   "pygments_lexer": "ipython3",
   "version": "3.8.16"
  },
  "orig_nbformat": 4
 },
 "nbformat": 4,
 "nbformat_minor": 2
}
